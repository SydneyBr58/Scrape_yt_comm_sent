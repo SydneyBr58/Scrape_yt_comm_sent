{
 "cells": [
  {
   "cell_type": "code",
   "execution_count": 1,
   "metadata": {},
   "outputs": [],
   "source": [
    "import time\n",
    "import pandas as pd   \n",
    "\n",
    "from selenium.webdriver import Chrome\n",
    "from selenium.webdriver.common.by import By\n",
    "from selenium.webdriver.common.keys import Keys\n",
    "from selenium.webdriver.support.ui import WebDriverWait\n",
    "from selenium.webdriver.support import expected_conditions as EC"
   ]
  },
  {
   "cell_type": "code",
   "execution_count": 2,
   "metadata": {},
   "outputs": [],
   "source": [
    "def scrape_yt(url, brand):\n",
    "    data=[]\n",
    "\n",
    "    with Chrome(executable_path=r'C:\\Users\\SYDNEY\\AppData\\Local\\Programs\\Python\\Python37\\Lib\\chromedriver.exe') as driver:\n",
    "        wait = WebDriverWait(driver,3)\n",
    "        driver.get(url)\n",
    "       \n",
    "        for item in range(5): \n",
    "            wait.until(EC.visibility_of_element_located((By.TAG_NAME, \"body\"))).send_keys(Keys.END)\n",
    "            time.sleep(3)\n",
    "  \n",
    "        # get the last comment\n",
    "        lastEle = driver.find_element_by_xpath(\"(//*[@id='content-text'])[last()]\")\n",
    "        # scroll to the last comment currently loaded\n",
    "        lastEle.location_once_scrolled_into_view\n",
    "        # wait until the comments loading is done\n",
    "        WebDriverWait(driver,5).until(EC.invisibility_of_element((By.CSS_SELECTOR,\"div.active.style-scope.paper-spinner\")))\n",
    "\n",
    "        # load all comments\n",
    "        while lastEle != driver.find_element_by_xpath(\"(//*[@id='content-text'])[last()]\"):\n",
    "            lastEle = driver.find_element_by_xpath(\"(//*[@id='content-text'])[last()]\")\n",
    "            driver.find_element_by_xpath(\"(//*[@id='content-text'])[last()]\").location_once_scrolled_into_view\n",
    "            time.sleep(2)\n",
    "            WebDriverWait(driver,5).until(EC.invisibility_of_element((By.CSS_SELECTOR,\"div.active.style-scope.paper-spinner\")))\n",
    "\n",
    "        # open all replies\n",
    "        for reply in driver.find_elements_by_xpath(\"//*[@id='replies']//paper-button[@class='style-scope ytd-button-renderer'][contains(.,'View')]\"):\n",
    "            reply.location_once_scrolled_into_view\n",
    "            driver.execute_script(\"arguments[0].click()\",reply)\n",
    "        time.sleep(2)\n",
    "        WebDriverWait(driver, 5).until(\n",
    "                EC.invisibility_of_element((By.CSS_SELECTOR, \"div.active.style-scope.paper-spinner\")))\n",
    "        # print the total number of comments\n",
    "        for comment in driver.find_elements_by_xpath(\"//*[@id='content-text']\"):\n",
    "            data.append(comment.text)\n",
    "           \n",
    "    df = pd.DataFrame(data, columns=['comment'])\n",
    "    df['brand'] = brand\n",
    "    df['url'] = url\n",
    "    return df"
   ]
  },
  {
   "cell_type": "code",
   "execution_count": 3,
   "metadata": {},
   "outputs": [],
   "source": [
    "url = 'https://www.youtube.com/watch?v=4osKpgjvdYo&ab_channel=ExplodingKittens'\n",
    "name = 'ExplodingKittens'\n",
    "df = scrape_yt(url, name) \n",
    "df.to_csv('kittens.csv', index=False)"
   ]
  }
 ],
 "metadata": {
  "kernelspec": {
   "display_name": "Python 3",
   "language": "python",
   "name": "python3"
  },
  "language_info": {
   "codemirror_mode": {
    "name": "ipython",
    "version": 3
   },
   "file_extension": ".py",
   "mimetype": "text/x-python",
   "name": "python",
   "nbconvert_exporter": "python",
   "pygments_lexer": "ipython3",
   "version": "3.7.6"
  }
 },
 "nbformat": 4,
 "nbformat_minor": 4
}
